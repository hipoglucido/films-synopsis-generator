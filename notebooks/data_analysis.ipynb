{
 "cells": [
  {
   "cell_type": "markdown",
   "metadata": {},
   "source": [
    "# Analysis of the data"
   ]
  },
  {
   "cell_type": "markdown",
   "metadata": {},
   "source": [
    "Imports"
   ]
  },
  {
   "cell_type": "code",
   "execution_count": 1,
   "metadata": {},
   "outputs": [
    {
     "data": {
      "text/html": [
       "<script>requirejs.config({paths: { 'plotly': ['https://cdn.plot.ly/plotly-latest.min']},});if(!window.Plotly) {{require(['plotly'],function(plotly) {window.Plotly=plotly;});}}</script>"
      ],
      "text/vnd.plotly.v1+html": [
       "<script>requirejs.config({paths: { 'plotly': ['https://cdn.plot.ly/plotly-latest.min']},});if(!window.Plotly) {{require(['plotly'],function(plotly) {window.Plotly=plotly;});}}</script>"
      ]
     },
     "metadata": {},
     "output_type": "display_data"
    }
   ],
   "source": [
    "import pandas as pd\n",
    "import numpy as np\n",
    "import os\n",
    "import re\n",
    "from collections import Counter\n",
    "from sklearn.preprocessing import MultiLabelBinarizer\n",
    "import operator\n",
    "import plotly.graph_objs as go\n",
    "import plotly.tools as tls\n",
    "import plotly.offline as py\n",
    "py.init_notebook_mode(connected=True)\n",
    "\n",
    "import matplotlib.pyplot as plt\n",
    "%matplotlib inline\n",
    "%config InlineBackend.figure_format = 'retina'"
   ]
  },
  {
   "cell_type": "markdown",
   "metadata": {},
   "source": [
    "GLOBAL VARIABLES"
   ]
  },
  {
   "cell_type": "code",
   "execution_count": 2,
   "metadata": {},
   "outputs": [
    {
     "name": "stdout",
     "output_type": "stream",
     "text": [
      "/home/alejandro/Dropbox/Carpeta personal/Universidad - Master/2º Semestre/Natural Computing/films-synopsis-generator\n",
      "/home/alejandro/Dropbox/Carpeta personal/Universidad - Master/2º Semestre/Natural Computing/films-synopsis-generator/data\n"
     ]
    }
   ],
   "source": [
    "ROOT_DIR = os.path.normpath(os.path.join(os.path.dirname(os.path.realpath(\"__file__\")), \"..\"))\n",
    "DATA_DIR = os.path.join(ROOT_DIR, \"data\")\n",
    "print(ROOT_DIR)\n",
    "print(DATA_DIR)"
   ]
  },
  {
   "cell_type": "markdown",
   "metadata": {},
   "source": [
    "Load the data"
   ]
  },
  {
   "cell_type": "code",
   "execution_count": 3,
   "metadata": {},
   "outputs": [
    {
     "name": "stdout",
     "output_type": "stream",
     "text": [
      "<class 'pandas.core.frame.DataFrame'>\n",
      "Index: 114451 entries, https://www.filmaffinity.com/es/film740563.html to https://www.filmaffinity.com/es/film469189.html\n",
      "Data columns (total 2 columns):\n",
      "Genre       114451 non-null object\n",
      "Synopsis    114451 non-null object\n",
      "dtypes: object(2)\n",
      "memory usage: 2.6+ MB\n",
      "b'                                                                                             Genre  \\\\\\nID                                                                                                   \\nhttps://www.filmaffinity.com/es/film740563.html                                            Comedia   \\nhttps://www.filmaffinity.com/es/film275936.html  Infantil|Comedia|Animales|Perros/Lobos|Deporte...   \\nhttps://www.filmaffinity.com/es/film697174.html                                      Drama|Secuela   \\nhttps://www.filmaffinity.com/es/film775580.html                         Acci\\xf3n|Aventuras|Espionaje   \\nhttps://www.filmaffinity.com/es/film303582.html  Animaci\\xf3n|Drama|Cortometraje (animaci\\xf3n)|11-S|...   \\n\\n                                                                                          Synopsis  \\nID                                                                                                  \\nhttps://www.filmaffinity.com/es/film740563.html  Tres pescadores barbate\\xf1os, Manuel, El Perra y...  \\nhttps://www.filmaffinity.com/es/film275936.html  Josh se va a universidad y Buddy se queda con ...  \\nhttps://www.filmaffinity.com/es/film697174.html  Hace 10 a\\xf1os John (Mickey Rourke), vivi\\xf3 un vi...  \\nhttps://www.filmaffinity.com/es/film775580.html  Jamaica, en la d\\xe9cada de los 60. El FBI env\\xeda ...  \\nhttps://www.filmaffinity.com/es/film303582.html  Los ataques terroristas contra las torres geme...  '\n"
     ]
    }
   ],
   "source": [
    "df = pd.read_csv(filepath_or_buffer  = os.path.join(DATA_DIR,'synopsis_genres.csv'),sep = '#',encoding = 'latin_1',index_col = 'ID')\n",
    "df = df[df['Synopsis'].notnull() & df['Genre'].notnull()]\n",
    "df.info()\n",
    "print(str(df.head()).encode('latin1'))"
   ]
  },
  {
   "cell_type": "markdown",
   "metadata": {},
   "source": [
    "Total number of training points"
   ]
  },
  {
   "cell_type": "code",
   "execution_count": 4,
   "metadata": {},
   "outputs": [
    {
     "name": "stdout",
     "output_type": "stream",
     "text": [
      "Total samples : 7751265\n"
     ]
    }
   ],
   "source": [
    "caps = list(df['Synopsis'].map(lambda s : ' '.join(re.findall(r\"[\\w]+|[^\\s\\w]\", s)).lower()).values)\n",
    "\n",
    "total_samples=0\n",
    "for text in caps:\n",
    "    total_samples+=len(text.split())-1\n",
    "print(\"Total samples : \"+str(total_samples))"
   ]
  },
  {
   "cell_type": "markdown",
   "metadata": {},
   "source": [
    "Check for the length of the sentences"
   ]
  },
  {
   "cell_type": "code",
   "execution_count": 5,
   "metadata": {},
   "outputs": [
    {
     "data": {
      "image/png": "[encoded data removed]",
      "text/plain": [
       "<matplotlib.figure.Figure at 0x7fc15061d518>"
      ]
     },
     "metadata": {
      "image/png": {
       "height": 277,
       "width": 401
      }
     },
     "output_type": "display_data"
    }
   ],
   "source": [
    "\n",
    "num_bins = range(1, 1000)\n",
    "\n",
    "lengths = [len(entry) for entry in caps]\n",
    "\n",
    "x = np.array(lengths)\n",
    "plt.hist(x,  bins=num_bins, rwidth=2)\n",
    "plt.title(\"Distribution of the length of the descriptions\")\n",
    "plt.xlabel(\"Number of words\")\n",
    "plt.ylabel(\"Number of descriptions\")\n",
    "plt.xlim(0,1000)\n",
    "plt.show()\n",
    "\n",
    "spl_by_word = [txt.split() for txt in caps]"
   ]
  },
  {
   "cell_type": "markdown",
   "metadata": {},
   "source": [
    "Check frequency of the words"
   ]
  },
  {
   "cell_type": "code",
   "execution_count": 6,
   "metadata": {},
   "outputs": [
    {
     "name": "stdout",
     "output_type": "stream",
     "text": [
      "Total number of words: 7865716 \n",
      "Size of vocabulary: 151852 \n",
      "Words that appear 3 times or less: 100968 \n",
      "Words that appear 2 times or less: 89855 \n",
      "Words that appear 1 times or less: 68368 \n"
     ]
    },
    {
     "data": {
      "image/png": "[encoded data removed]",
      "text/plain": [
       "<matplotlib.figure.Figure at 0x7fc133b10c18>"
      ]
     },
     "metadata": {
      "image/png": {
       "height": 277,
       "width": 411
      }
     },
     "output_type": "display_data"
    }
   ],
   "source": [
    "raw_words = []\n",
    "\n",
    "for descrp in caps:\n",
    "    raw_words.extend(descrp.split())\n",
    "\n",
    "print(\"Total number of words: %d \" % len(raw_words))\n",
    "vocabulary = set(raw_words)\n",
    "print(\"Size of vocabulary: %d \" % len(vocabulary))\n",
    "\n",
    "\n",
    "# Get all the words the occur only once for the given wordlist\n",
    "desired_value = 3\n",
    "myDict = dict(Counter(raw_words))\n",
    "hapax_legomena = [k for k, v in myDict.items() if v <= desired_value]\n",
    "print(\"Words that appear 3 times or less: %d \" % len(hapax_legomena))\n",
    "desired_value = 2\n",
    "hapax_legomena = [k for k, v in myDict.items() if v <= desired_value]\n",
    "print(\"Words that appear 2 times or less: %d \" % len(hapax_legomena))\n",
    "desired_value = 1\n",
    "hapax_legomena = [k for k, v in myDict.items() if v <= desired_value]\n",
    "print(\"Words that appear 1 times or less: %d \" % len(hapax_legomena))\n",
    "\n",
    "\n",
    "\n",
    "num_bins = range(1, 100)\n",
    "\n",
    "x = np.asarray(list(myDict.values()))\n",
    "\n",
    "plt.hist(x,  bins=num_bins, rwidth=2)\n",
    "plt.title(\"Distribution of the frequency of the words\")\n",
    "plt.xlabel(\"Number of ocurrences\")\n",
    "plt.ylabel(\"Number of words\")\n",
    "plt.xlim(0,100)\n",
    "plt.show()\n",
    "\n",
    "spl_by_word = [txt.split() for txt in caps]\n",
    "\n"
   ]
  },
  {
   "cell_type": "markdown",
   "metadata": {},
   "source": [
    "Check basic information about the labels"
   ]
  },
  {
   "cell_type": "code",
   "execution_count": 7,
   "metadata": {},
   "outputs": [
    {
     "name": "stdout",
     "output_type": "stream",
     "text": [
      "378  different genres found: b\"['11-S' '3-D' 'Abusos sexuales' 'Acci\\xf3n' 'Acoso escolar' 'Adolescencia'\\n 'Adopci\\xf3n' 'Ajedrez' 'Alcoh\" ...\n",
      "(114451, 378)\n"
     ]
    }
   ],
   "source": [
    "mlb = MultiLabelBinarizer()\n",
    "\n",
    "\n",
    "genres_features = mlb.fit_transform(df['Genre'].map(lambda x: x.split('|')))\n",
    "print(len(mlb.classes_),\" different genres found:\",str(mlb.classes_).encode('latin1')[:100],\"...\")\n",
    "print(genres_features.shape)\n"
   ]
  },
  {
   "cell_type": "markdown",
   "metadata": {},
   "source": [
    "Check the distribution of the classes"
   ]
  },
  {
   "cell_type": "code",
   "execution_count": 8,
   "metadata": {},
   "outputs": [
    {
     "data": {
      "image/png": "[encoded data removed]",
      "text/plain": [
       "<matplotlib.figure.Figure at 0x7fc14f176630>"
      ]
     },
     "metadata": {
      "image/png": {
       "height": 277,
       "width": 403
      }
     },
     "output_type": "display_data"
    },
    {
     "name": "stdout",
     "output_type": "stream",
     "text": [
      "The 10 more common genre are (in descending order): ['Drama' 'Comedia' 'Documental' 'Animación' 'Romance' 'Serie de TV'\n",
      " 'Thriller' 'Acción' 'Terror' 'Cortometraje']\n",
      "At least one of these labels is in the 95.52122742483682% of the instances\n"
     ]
    }
   ],
   "source": [
    "genres_s = np.cumsum(genres_features, axis=0)[len(genres_features)-1,:]\n",
    "\n",
    "plt.plot(np.sort(genres_s))\n",
    "plt.title(\"Distribution of the frequency of the genres\")\n",
    "plt.xlabel(\"Genres\")\n",
    "plt.ylabel(\"Number of ocurrences\")\n",
    "plt.show()\n",
    "\n",
    "top = 10\n",
    "\n",
    "most_common = np.sort(genres_s)[len(genres_s)-top:len(genres_s)][::-1]\n",
    "genres_s = genres_s.tolist()\n",
    "#indexes = genres_s.tolist().index(np.sort(genres_s)[len(genres_s)-25:len(genres_s)])\n",
    "indexes = [genres_s.index(value) for value in most_common]\n",
    "print(\"The {} more common genre are (in descending order): {}\".format(len(indexes),mlb.classes_[indexes]))\n",
    "\n",
    "count = 0\n",
    "#df['Genre'].map(lambda x: x.split('|'))\n",
    "for entry in df['Genre'].map(lambda x: x.split('|')):\n",
    "    if np.any(np.in1d(mlb.classes_[indexes], entry)):\n",
    "#    if any mlb.classes_[indexes] in entry:\n",
    "        count += 1\n",
    "\n",
    "#print(count)\n",
    "\n",
    "print(\"At least one of these labels is in the {}% of the instances\".format(count/len(df['Genre'])*100))\n"
   ]
  },
  {
   "cell_type": "markdown",
   "metadata": {},
   "source": [
    "Co-occurence Matrices"
   ]
  },
  {
   "cell_type": "code",
   "execution_count": 16,
   "metadata": {},
   "outputs": [
    {
     "name": "stdout",
     "output_type": "stream",
     "text": [
      "This is the format of your plot grid:\n",
      "[ (1,1) x1,y1 ]  [ (1,2) x2,y2 ]\n",
      "\n"
     ]
    },
    {
     "data": {
      "application/vnd.plotly.v1+json": {
       "data": [
        {
         "type": "heatmap",
         "x": [
          "Drama",
          "Comedia",
          "Documental",
          "Animación",
          "Romance",
          "Serie de TV",
          "Thriller",
          "Acción",
          "Terror",
          "Cortometraje"
         ],
         "xaxis": "x1",
         "y": [
          "Drama",
          "Comedia",
          "Documental",
          "Animación",
          "Romance",
          "Serie de TV",
          "Thriller",
          "Acción",
          "Terror",
          "Cortometraje"
         ],
         "yaxis": "y1",
         "z": [
          [
           1,
           0.13400283408292774,
           0.01248639434826361,
           0.033803626804674185,
           0.1456266814531863,
           0.09399708376974103,
           0.08231162590105354,
           0.05366274413160003,
           0.018175097036535026,
           0.06173371942579015
          ],
          [
           0.20850642295647728,
           1,
           0.006934236594874417,
           0.17447434012909824,
           0.14536332843356553,
           0.13657570141241132,
           0.020355339681728125,
           0.05780660829551991,
           0.03403208282737905,
           0.0634306895890586
          ],
          [
           0.042090688819660785,
           0.015022499134648667,
           1,
           0.010038075458636206,
           0.002215299411561094,
           0.04402907580477674,
           0.000761509172724126,
           0.0010384215991692627,
           0.003946002076843198,
           0.13624091381100728
          ],
          [
           0.12837310871938856,
           0.4258306036499766,
           0.011308688192169708,
           1,
           0.05927312431757916,
           0.2725003899547652,
           0.010840742473873032,
           0.12985493682732804,
           0.030806426454531275,
           0.0031196381219778507
          ],
          [
           0.6161800486618005,
           0.39529023288147375,
           0.002780674313521029,
           0.06604101494612444,
           1,
           0.15137295794230102,
           0.03997219325686479,
           0.04779283976364268,
           0.015554396941258255,
           0.028501911713590546
          ],
          [
           0.39977290593064896,
           0.37330771246397065,
           0.05555070311817626,
           0.30517949165866015,
           0.15215302646519346,
           1,
           0.06341165167263517,
           0.13433487640841996,
           0.027338632194951525,
           0
          ],
          [
           0.36137408709764673,
           0.05743395545938148,
           0.0009917951492200883,
           0.012532684158326571,
           0.04147506987647642,
           0.06545847984852583,
           1,
           0.18086736993959066,
           0.1858263456856911,
           0.026237489856640518
          ],
          [
           0.25804858779379813,
           0.17864902231878332,
           0.0014813351767726645,
           0.16442820462176574,
           0.05431562314833103,
           0.15188623345842386,
           0.198103890973731,
           1,
           0.05658700375271578,
           0.01767726644282046
          ],
          [
           0.10329131652661064,
           0.12429971988795518,
           0.00665266106442577,
           0.046101774042950516,
           0.020891690009337067,
           0.036531279178338004,
           0.24054621848739496,
           0.06687675070028011,
           1,
           0.056022408963585436
          ],
          [
           0.3897316219369895,
           0.25735770776610917,
           0.2551536367172306,
           0.005186049526772981,
           0.04252560611953844,
           0,
           0.037728510307273436,
           0.02320757163230909,
           0.062232594321275765,
           1
          ]
         ]
        },
        {
         "type": "heatmap",
         "x": [
          "Drama",
          "Comedia",
          "Documental",
          "Animación",
          "Romance",
          "Serie de TV",
          "Thriller",
          "Acción",
          "Terror",
          "Cortometraje"
         ],
         "xaxis": "x2",
         "y": [
          "Drama",
          "Comedia",
          "Documental",
          "Animación",
          "Romance",
          "Serie de TV",
          "Thriller",
          "Acción",
          "Terror",
          "Cortometraje"
         ],
         "yaxis": "y2",
         "z": [
          [
           1,
           0.13400283408292774,
           0.01248639434826361,
           0.033803626804674185,
           0.1456266814531863,
           0.09399708376974103,
           0.08231162590105354,
           0.05366274413160003,
           0.018175097036535026,
           0.06173371942579015
          ],
          [
           0.20850642295647728,
           1,
           0.006934236594874417,
           0.17447434012909824,
           0.14536332843356553,
           0.13657570141241132,
           0.020355339681728125,
           0.05780660829551991,
           0.03403208282737905,
           0.0634306895890586
          ],
          [
           0.042090688819660785,
           0.015022499134648667,
           1,
           0.010038075458636206,
           0.002215299411561094,
           0.04402907580477674,
           0.000761509172724126,
           0.0010384215991692627,
           0.003946002076843198,
           0.13624091381100728
          ],
          [
           0.12837310871938856,
           0.4258306036499766,
           0.011308688192169708,
           1,
           0.05927312431757916,
           0.2725003899547652,
           0.010840742473873032,
           0.12985493682732804,
           0.030806426454531275,
           0.0031196381219778507
          ],
          [
           0.6161800486618005,
           0.39529023288147375,
           0.002780674313521029,
           0.06604101494612444,
           1,
           0.15137295794230102,
           0.03997219325686479,
           0.04779283976364268,
           0.015554396941258255,
           0.028501911713590546
          ],
          [
           0.39977290593064896,
           0.37330771246397065,
           0.05555070311817626,
           0.30517949165866015,
           0.15215302646519346,
           1,
           0.06341165167263517,
           0.13433487640841996,
           0.027338632194951525,
           0
          ],
          [
           0.36137408709764673,
           0.05743395545938148,
           0.0009917951492200883,
           0.012532684158326571,
           0.04147506987647642,
           0.06545847984852583,
           1,
           0.18086736993959066,
           0.1858263456856911,
           0.026237489856640518
          ],
          [
           0.25804858779379813,
           0.17864902231878332,
           0.0014813351767726645,
           0.16442820462176574,
           0.05431562314833103,
           0.15188623345842386,
           0.198103890973731,
           1,
           0.05658700375271578,
           0.01767726644282046
          ],
          [
           0.10329131652661064,
           0.12429971988795518,
           0.00665266106442577,
           0.046101774042950516,
           0.020891690009337067,
           0.036531279178338004,
           0.24054621848739496,
           0.06687675070028011,
           1,
           0.056022408963585436
          ],
          [
           0.3897316219369895,
           0.25735770776610917,
           0.2551536367172306,
           0.005186049526772981,
           0.04252560611953844,
           0,
           0.037728510307273436,
           0.02320757163230909,
           0.062232594321275765,
           1
          ]
         ]
        }
       ],
       "layout": {
        "annotations": [
         {
          "font": {
           "size": 16
          },
          "showarrow": false,
          "text": "Co-occurrence matrix",
          "x": 0.225,
          "xanchor": "center",
          "xref": "paper",
          "y": 1,
          "yanchor": "bottom",
          "yref": "paper"
         },
         {
          "font": {
           "size": 16
          },
          "showarrow": false,
          "text": "Co-occurrence matrix (copy)",
          "x": 0.775,
          "xanchor": "center",
          "xref": "paper",
          "y": 1,
          "yanchor": "bottom",
          "yref": "paper"
         }
        ],
        "xaxis1": {
         "anchor": "y1",
         "domain": [
          0,
          0.45
         ]
        },
        "xaxis2": {
         "anchor": "y2",
         "domain": [
          0.55,
          1
         ]
        },
        "yaxis1": {
         "anchor": "x1",
         "domain": [
          0,
          1
         ]
        },
        "yaxis2": {
         "anchor": "x2",
         "domain": [
          0,
          1
         ]
        }
       }
      },
      "text/html": [
       "<div id=\"a5984af6-ee18-4a94-9b10-c76ac8a97346\" style=\"height: 525px; width: 100%;\" class=\"plotly-graph-div\"></div><script type=\"text/javascript\">require([\"plotly\"], function(Plotly) { window.PLOTLYENV=window.PLOTLYENV || {};window.PLOTLYENV.BASE_URL=\"https://plot.ly\";Plotly.newPlot(\"a5984af6-ee18-4a94-9b10-c76ac8a97346\", [{\"xaxis\": \"x1\", \"x\": [\"Drama\", \"Comedia\", \"Documental\", \"Animaci\\u00f3n\", \"Romance\", \"Serie de TV\", \"Thriller\", \"Acci\\u00f3n\", \"Terror\", \"Cortometraje\"], \"type\": \"heatmap\", \"y\": [\"Drama\", \"Comedia\", \"Documental\", \"Animaci\\u00f3n\", \"Romance\", \"Serie de TV\", \"Thriller\", \"Acci\\u00f3n\", \"Terror\", \"Cortometraje\"], \"z\": [[1.0, 0.13400283408292774, 0.01248639434826361, 0.033803626804674185, 0.1456266814531863, 0.09399708376974103, 0.08231162590105354, 0.05366274413160003, 0.018175097036535026, 0.06173371942579015], [0.20850642295647728, 1.0, 0.006934236594874417, 0.17447434012909824, 0.14536332843356553, 0.13657570141241132, 0.020355339681728125, 0.05780660829551991, 0.03403208282737905, 0.0634306895890586], [0.042090688819660785, 0.015022499134648667, 1.0, 0.010038075458636206, 0.002215299411561094, 0.04402907580477674, 0.000761509172724126, 0.0010384215991692627, 0.003946002076843198, 0.13624091381100728], [0.12837310871938856, 0.4258306036499766, 0.011308688192169708, 1.0, 0.05927312431757916, 0.2725003899547652, 0.010840742473873032, 0.12985493682732804, 0.030806426454531275, 0.0031196381219778507], [0.6161800486618005, 0.39529023288147375, 0.002780674313521029, 0.06604101494612444, 1.0, 0.15137295794230102, 0.03997219325686479, 0.04779283976364268, 0.015554396941258255, 0.028501911713590546], [0.39977290593064896, 0.37330771246397065, 0.05555070311817626, 0.30517949165866015, 0.15215302646519346, 1.0, 0.06341165167263517, 0.13433487640841996, 0.027338632194951525, 0.0], [0.36137408709764673, 0.05743395545938148, 0.0009917951492200883, 0.012532684158326571, 0.04147506987647642, 0.06545847984852583, 1.0, 0.18086736993959066, 0.1858263456856911, 0.026237489856640518], [0.25804858779379813, 0.17864902231878332, 0.0014813351767726645, 0.16442820462176574, 0.05431562314833103, 0.15188623345842386, 0.198103890973731, 1.0, 0.05658700375271578, 0.01767726644282046], [0.10329131652661064, 0.12429971988795518, 0.00665266106442577, 0.046101774042950516, 0.020891690009337067, 0.036531279178338004, 0.24054621848739496, 0.06687675070028011, 1.0, 0.056022408963585436], [0.3897316219369895, 0.25735770776610917, 0.2551536367172306, 0.005186049526772981, 0.04252560611953844, 0.0, 0.037728510307273436, 0.02320757163230909, 0.062232594321275765, 1.0]], \"yaxis\": \"y1\"}, {\"xaxis\": \"x2\", \"x\": [\"Drama\", \"Comedia\", \"Documental\", \"Animaci\\u00f3n\", \"Romance\", \"Serie de TV\", \"Thriller\", \"Acci\\u00f3n\", \"Terror\", \"Cortometraje\"], \"type\": \"heatmap\", \"y\": [\"Drama\", \"Comedia\", \"Documental\", \"Animaci\\u00f3n\", \"Romance\", \"Serie de TV\", \"Thriller\", \"Acci\\u00f3n\", \"Terror\", \"Cortometraje\"], \"z\": [[1.0, 0.13400283408292774, 0.01248639434826361, 0.033803626804674185, 0.1456266814531863, 0.09399708376974103, 0.08231162590105354, 0.05366274413160003, 0.018175097036535026, 0.06173371942579015], [0.20850642295647728, 1.0, 0.006934236594874417, 0.17447434012909824, 0.14536332843356553, 0.13657570141241132, 0.020355339681728125, 0.05780660829551991, 0.03403208282737905, 0.0634306895890586], [0.042090688819660785, 0.015022499134648667, 1.0, 0.010038075458636206, 0.002215299411561094, 0.04402907580477674, 0.000761509172724126, 0.0010384215991692627, 0.003946002076843198, 0.13624091381100728], [0.12837310871938856, 0.4258306036499766, 0.011308688192169708, 1.0, 0.05927312431757916, 0.2725003899547652, 0.010840742473873032, 0.12985493682732804, 0.030806426454531275, 0.0031196381219778507], [0.6161800486618005, 0.39529023288147375, 0.002780674313521029, 0.06604101494612444, 1.0, 0.15137295794230102, 0.03997219325686479, 0.04779283976364268, 0.015554396941258255, 0.028501911713590546], [0.39977290593064896, 0.37330771246397065, 0.05555070311817626, 0.30517949165866015, 0.15215302646519346, 1.0, 0.06341165167263517, 0.13433487640841996, 0.027338632194951525, 0.0], [0.36137408709764673, 0.05743395545938148, 0.0009917951492200883, 0.012532684158326571, 0.04147506987647642, 0.06545847984852583, 1.0, 0.18086736993959066, 0.1858263456856911, 0.026237489856640518], [0.25804858779379813, 0.17864902231878332, 0.0014813351767726645, 0.16442820462176574, 0.05431562314833103, 0.15188623345842386, 0.198103890973731, 1.0, 0.05658700375271578, 0.01767726644282046], [0.10329131652661064, 0.12429971988795518, 0.00665266106442577, 0.046101774042950516, 0.020891690009337067, 0.036531279178338004, 0.24054621848739496, 0.06687675070028011, 1.0, 0.056022408963585436], [0.3897316219369895, 0.25735770776610917, 0.2551536367172306, 0.005186049526772981, 0.04252560611953844, 0.0, 0.037728510307273436, 0.02320757163230909, 0.062232594321275765, 1.0]], \"yaxis\": \"y2\"}], {\"yaxis1\": {\"domain\": [0.0, 1.0], \"anchor\": \"x1\"}, \"xaxis1\": {\"domain\": [0.0, 0.45], \"anchor\": \"y1\"}, \"annotations\": [{\"font\": {\"size\": 16}, \"yref\": \"paper\", \"text\": \"Co-occurrence matrix\", \"x\": 0.225, \"xanchor\": \"center\", \"y\": 1.0, \"showarrow\": false, \"xref\": \"paper\", \"yanchor\": \"bottom\"}, {\"font\": {\"size\": 16}, \"yref\": \"paper\", \"text\": \"Co-occurrence matrix (copy)\", \"x\": 0.775, \"xanchor\": \"center\", \"y\": 1.0, \"showarrow\": false, \"xref\": \"paper\", \"yanchor\": \"bottom\"}], \"yaxis2\": {\"domain\": [0.0, 1.0], \"anchor\": \"x2\"}, \"xaxis2\": {\"domain\": [0.55, 1.0], \"anchor\": \"y2\"}}, {\"showLink\": true, \"linkText\": \"Export to plot.ly\"})});</script>"
      ],
      "text/vnd.plotly.v1+html": [
       "<div id=\"a5984af6-ee18-4a94-9b10-c76ac8a97346\" style=\"height: 525px; width: 100%;\" class=\"plotly-graph-div\"></div><script type=\"text/javascript\">require([\"plotly\"], function(Plotly) { window.PLOTLYENV=window.PLOTLYENV || {};window.PLOTLYENV.BASE_URL=\"https://plot.ly\";Plotly.newPlot(\"a5984af6-ee18-4a94-9b10-c76ac8a97346\", [{\"xaxis\": \"x1\", \"x\": [\"Drama\", \"Comedia\", \"Documental\", \"Animaci\\u00f3n\", \"Romance\", \"Serie de TV\", \"Thriller\", \"Acci\\u00f3n\", \"Terror\", \"Cortometraje\"], \"type\": \"heatmap\", \"y\": [\"Drama\", \"Comedia\", \"Documental\", \"Animaci\\u00f3n\", \"Romance\", \"Serie de TV\", \"Thriller\", \"Acci\\u00f3n\", \"Terror\", \"Cortometraje\"], \"z\": [[1.0, 0.13400283408292774, 0.01248639434826361, 0.033803626804674185, 0.1456266814531863, 0.09399708376974103, 0.08231162590105354, 0.05366274413160003, 0.018175097036535026, 0.06173371942579015], [0.20850642295647728, 1.0, 0.006934236594874417, 0.17447434012909824, 0.14536332843356553, 0.13657570141241132, 0.020355339681728125, 0.05780660829551991, 0.03403208282737905, 0.0634306895890586], [0.042090688819660785, 0.015022499134648667, 1.0, 0.010038075458636206, 0.002215299411561094, 0.04402907580477674, 0.000761509172724126, 0.0010384215991692627, 0.003946002076843198, 0.13624091381100728], [0.12837310871938856, 0.4258306036499766, 0.011308688192169708, 1.0, 0.05927312431757916, 0.2725003899547652, 0.010840742473873032, 0.12985493682732804, 0.030806426454531275, 0.0031196381219778507], [0.6161800486618005, 0.39529023288147375, 0.002780674313521029, 0.06604101494612444, 1.0, 0.15137295794230102, 0.03997219325686479, 0.04779283976364268, 0.015554396941258255, 0.028501911713590546], [0.39977290593064896, 0.37330771246397065, 0.05555070311817626, 0.30517949165866015, 0.15215302646519346, 1.0, 0.06341165167263517, 0.13433487640841996, 0.027338632194951525, 0.0], [0.36137408709764673, 0.05743395545938148, 0.0009917951492200883, 0.012532684158326571, 0.04147506987647642, 0.06545847984852583, 1.0, 0.18086736993959066, 0.1858263456856911, 0.026237489856640518], [0.25804858779379813, 0.17864902231878332, 0.0014813351767726645, 0.16442820462176574, 0.05431562314833103, 0.15188623345842386, 0.198103890973731, 1.0, 0.05658700375271578, 0.01767726644282046], [0.10329131652661064, 0.12429971988795518, 0.00665266106442577, 0.046101774042950516, 0.020891690009337067, 0.036531279178338004, 0.24054621848739496, 0.06687675070028011, 1.0, 0.056022408963585436], [0.3897316219369895, 0.25735770776610917, 0.2551536367172306, 0.005186049526772981, 0.04252560611953844, 0.0, 0.037728510307273436, 0.02320757163230909, 0.062232594321275765, 1.0]], \"yaxis\": \"y1\"}, {\"xaxis\": \"x2\", \"x\": [\"Drama\", \"Comedia\", \"Documental\", \"Animaci\\u00f3n\", \"Romance\", \"Serie de TV\", \"Thriller\", \"Acci\\u00f3n\", \"Terror\", \"Cortometraje\"], \"type\": \"heatmap\", \"y\": [\"Drama\", \"Comedia\", \"Documental\", \"Animaci\\u00f3n\", \"Romance\", \"Serie de TV\", \"Thriller\", \"Acci\\u00f3n\", \"Terror\", \"Cortometraje\"], \"z\": [[1.0, 0.13400283408292774, 0.01248639434826361, 0.033803626804674185, 0.1456266814531863, 0.09399708376974103, 0.08231162590105354, 0.05366274413160003, 0.018175097036535026, 0.06173371942579015], [0.20850642295647728, 1.0, 0.006934236594874417, 0.17447434012909824, 0.14536332843356553, 0.13657570141241132, 0.020355339681728125, 0.05780660829551991, 0.03403208282737905, 0.0634306895890586], [0.042090688819660785, 0.015022499134648667, 1.0, 0.010038075458636206, 0.002215299411561094, 0.04402907580477674, 0.000761509172724126, 0.0010384215991692627, 0.003946002076843198, 0.13624091381100728], [0.12837310871938856, 0.4258306036499766, 0.011308688192169708, 1.0, 0.05927312431757916, 0.2725003899547652, 0.010840742473873032, 0.12985493682732804, 0.030806426454531275, 0.0031196381219778507], [0.6161800486618005, 0.39529023288147375, 0.002780674313521029, 0.06604101494612444, 1.0, 0.15137295794230102, 0.03997219325686479, 0.04779283976364268, 0.015554396941258255, 0.028501911713590546], [0.39977290593064896, 0.37330771246397065, 0.05555070311817626, 0.30517949165866015, 0.15215302646519346, 1.0, 0.06341165167263517, 0.13433487640841996, 0.027338632194951525, 0.0], [0.36137408709764673, 0.05743395545938148, 0.0009917951492200883, 0.012532684158326571, 0.04147506987647642, 0.06545847984852583, 1.0, 0.18086736993959066, 0.1858263456856911, 0.026237489856640518], [0.25804858779379813, 0.17864902231878332, 0.0014813351767726645, 0.16442820462176574, 0.05431562314833103, 0.15188623345842386, 0.198103890973731, 1.0, 0.05658700375271578, 0.01767726644282046], [0.10329131652661064, 0.12429971988795518, 0.00665266106442577, 0.046101774042950516, 0.020891690009337067, 0.036531279178338004, 0.24054621848739496, 0.06687675070028011, 1.0, 0.056022408963585436], [0.3897316219369895, 0.25735770776610917, 0.2551536367172306, 0.005186049526772981, 0.04252560611953844, 0.0, 0.037728510307273436, 0.02320757163230909, 0.062232594321275765, 1.0]], \"yaxis\": \"y2\"}], {\"yaxis1\": {\"domain\": [0.0, 1.0], \"anchor\": \"x1\"}, \"xaxis1\": {\"domain\": [0.0, 0.45], \"anchor\": \"y1\"}, \"annotations\": [{\"font\": {\"size\": 16}, \"yref\": \"paper\", \"text\": \"Co-occurrence matrix\", \"x\": 0.225, \"xanchor\": \"center\", \"y\": 1.0, \"showarrow\": false, \"xref\": \"paper\", \"yanchor\": \"bottom\"}, {\"font\": {\"size\": 16}, \"yref\": \"paper\", \"text\": \"Co-occurrence matrix (copy)\", \"x\": 0.775, \"xanchor\": \"center\", \"y\": 1.0, \"showarrow\": false, \"xref\": \"paper\", \"yanchor\": \"bottom\"}], \"yaxis2\": {\"domain\": [0.0, 1.0], \"anchor\": \"x2\"}, \"xaxis2\": {\"domain\": [0.55, 1.0], \"anchor\": \"y2\"}}, {\"showLink\": true, \"linkText\": \"Export to plot.ly\"})});</script>"
      ]
     },
     "metadata": {},
     "output_type": "display_data"
    }
   ],
   "source": [
    "most_common_text = mlb.classes_[indexes]\n",
    "most_common_index = indexes\n",
    "most_common_value = most_common\n",
    "\n",
    "tags = most_common_text\n",
    "\n",
    "\n",
    "subset = []\n",
    "sub_genres_features = genres_features[:,most_common_index]\n",
    "#df['Genre'].map(lambda x: x.split('|'))\n",
    "for i, entry in enumerate(df['Genre'].map(lambda x: x.split('|'))):\n",
    "    if np.any(np.in1d(mlb.classes_[indexes], entry)):\n",
    "        subset.append(sub_genres_features[i])\n",
    "\n",
    "np_ground_truth = np.asarray(subset)\n",
    "\n",
    "#print(np_ground_truth[:20])\n",
    "\n",
    "# Co-occurence Matrices\n",
    "com_ground_truth = np.zeros([len(tags)]*2)\n",
    "for l, tag in enumerate(tags):\n",
    "        for l2, tag2 in enumerate(tags):\n",
    "            if np_ground_truth[:,l].sum()>0:\n",
    "                com_ground_truth[l, l2] = np_ground_truth[:,l].dot(np_ground_truth[:,l2])/np_ground_truth[:,l].sum()\n",
    "            else:\n",
    "                com_ground_truth[l, l2] = 0\n",
    "\n",
    "# Plotting\n",
    "data=go.Heatmap(z=com_ground_truth, x=list(tags), y=list(tags))\n",
    "\n",
    "fig = tls.make_subplots(rows=1, cols=2, subplot_titles=('Co-occurrence matrix','Co-occurrence matrix (copy)'))\n",
    "fig.append_trace(data, 1, 1)\n",
    "fig.append_trace(data, 1, 2)\n",
    "\n",
    "py.iplot(fig)\n"
   ]
  },
  {
   "cell_type": "code",
   "execution_count": null,
   "metadata": {
    "collapsed": true
   },
   "outputs": [],
   "source": []
  }
 ],
 "metadata": {
  "anaconda-cloud": {},
  "kernelspec": {
   "display_name": "Python [conda root]",
   "language": "python",
   "name": "conda-root-py"
  },
  "language_info": {
   "codemirror_mode": {
    "name": "ipython",
    "version": 3
   },
   "file_extension": ".py",
   "mimetype": "text/x-python",
   "name": "python",
   "nbconvert_exporter": "python",
   "pygments_lexer": "ipython3",
   "version": "3.5.3"
  }
 },
 "nbformat": 4,
 "nbformat_minor": 2
}
